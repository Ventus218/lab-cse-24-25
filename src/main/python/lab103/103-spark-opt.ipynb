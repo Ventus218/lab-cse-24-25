{
 "cells": [
  {
   "cell_type": "markdown",
   "id": "3fef6a0f-d919-4c87-b582-eacd2b852cee",
   "metadata": {
    "id": "3fef6a0f-d919-4c87-b582-eacd2b852cee"
   },
   "source": [
    "# 103 Spark optimizations\n",
    "\n",
    "The goal of this lab is to understand some of the optimization mechanisms of Spark.\n",
    "\n",
    "- [Spark programming guide](https://spark.apache.org/docs/latest/rdd-programming-guide.html)\n",
    "- [RDD APIs](https://spark.apache.org/docs/latest/api/scala/org/apache/spark/rdd/RDD.html)\n",
    "- [PairRDD APIs](https://spark.apache.org/docs/latest/api/scala/org/apache/spark/rdd/PairRDDFunctions.html)"
   ]
  },
  {
   "cell_type": "code",
   "id": "4a037caa76dc389a",
   "metadata": {
    "ExecuteTime": {
     "end_time": "2024-10-30T10:48:21.828826Z",
     "start_time": "2024-10-30T10:48:08.417214Z"
    }
   },
   "source": [
    "import org.apache.spark"
   ],
   "outputs": [
    {
     "data": {
      "text/plain": [
       "Intitializing Scala interpreter ..."
      ]
     },
     "metadata": {},
     "output_type": "display_data"
    },
    {
     "data": {
      "text/plain": [
       "Spark Web UI available at http://lab42-04-01.campusfc.dir.unibo.it:4040\n",
       "SparkContext available as 'sc' (version = 3.5.2, master = local[*], app id = local-1730285296230)\n",
       "SparkSession available as 'spark'\n"
      ]
     },
     "metadata": {},
     "output_type": "display_data"
    },
    {
     "data": {
      "text/plain": [
       "import org.apache.spark\r\n"
      ]
     },
     "execution_count": 1,
     "metadata": {},
     "output_type": "execute_result"
    }
   ],
   "execution_count": 1
  },
  {
   "cell_type": "code",
   "execution_count": null,
   "id": "f504e515fbb5fa1f",
   "metadata": {},
   "outputs": [],
   "source": [
    "// DO NOT EXECUTE - this is needed just to avoid showing errors in the following cells\n",
    "val sc = spark.SparkContext.getOrCreate()"
   ]
  },
  {
   "cell_type": "code",
   "id": "7648dedd-4462-44e4-bcf7-5dc3af6f08a7",
   "metadata": {
    "id": "7648dedd-4462-44e4-bcf7-5dc3af6f08a7",
    "tags": [],
    "ExecuteTime": {
     "end_time": "2024-10-30T10:48:27.078754Z",
     "start_time": "2024-10-30T10:48:26.194148Z"
    }
   },
   "source": [
    "// WEATHER structure: (usaf,wban,year,month,day,airTemperature,airTemperatureQuality)\n",
    "def parseWeather(row:String) = {\n",
    "    val usaf = row.substring(4,10)\n",
    "    val wban = row.substring(10,15)\n",
    "    val year = row.substring(15,19)\n",
    "    val month = row.substring(19,21)\n",
    "    val day = row.substring(21,23)\n",
    "    val airTemperature = row.substring(87,92)\n",
    "    val airTemperatureQuality = row.charAt(92)\n",
    "\n",
    "    (usaf,wban,year,month,day,airTemperature.toInt/10,airTemperatureQuality == '1')\n",
    "}\n",
    "\n",
    "// STATION structure: (usaf,wban,city,country,state,latitude,longitude,elevation,date_begin,date_end) \n",
    "def parseStation(row:String) = {\n",
    "    def getDouble(str:String) : Double = {\n",
    "        if (str.isEmpty)\n",
    "            return 0\n",
    "        else\n",
    "            return str.toDouble\n",
    "    }\n",
    "    val columns = row.split(\",\").map(_.replaceAll(\"\\\"\",\"\"))\n",
    "    val latitude = getDouble(columns(6))\n",
    "    val longitude = getDouble(columns(7))\n",
    "    val elevation = getDouble(columns(8))\n",
    "    (columns(0),columns(1),columns(2),columns(3),columns(4),latitude,longitude,elevation,columns(9),columns(10))  \n",
    "}"
   ],
   "outputs": [
    {
     "data": {
      "text/plain": [
       "parseWeather: (row: String)(String, String, String, String, String, Int, Boolean)\r\n",
       "parseStation: (row: String)(String, String, String, String, String, Double, Double, Double, String, String)\r\n"
      ]
     },
     "execution_count": 2,
     "metadata": {},
     "output_type": "execute_result"
    }
   ],
   "execution_count": 2
  },
  {
   "cell_type": "code",
   "id": "c70c02bd-4c8f-4cc2-9a13-544da7c6544d",
   "metadata": {
    "ExecuteTime": {
     "end_time": "2024-10-30T10:51:58.513831Z",
     "start_time": "2024-10-30T10:51:57.050889Z"
    }
   },
   "source": [
    "val rddWeather = sc.\n",
    "  textFile(\"../../../../datasets/big/weather-sample10.txt\").\n",
    "  map(x => parseWeather(x))\n",
    "val rddStation = sc.\n",
    "  textFile(\"../../../../datasets/weather-stations.csv\").\n",
    "  map(x => parseStation(x))"
   ],
   "outputs": [
    {
     "data": {
      "text/plain": [
       "rddWeather: org.apache.spark.rdd.RDD[(String, String, String, String, String, Int, Boolean)] = MapPartitionsRDD[10] at map at <console>:32\r\n",
       "rddStation: org.apache.spark.rdd.RDD[(String, String, String, String, String, Double, Double, Double, String, String)] = MapPartitionsRDD[13] at map at <console>:35\r\n"
      ]
     },
     "execution_count": 6,
     "metadata": {},
     "output_type": "execute_result"
    }
   ],
   "execution_count": 6
  },
  {
   "cell_type": "markdown",
   "id": "ef4b49ee-6852-4025-9e55-3950ff937680",
   "metadata": {
    "id": "ef4b49ee-6852-4025-9e55-3950ff937680"
   },
   "source": [
    "## 103-1 Simple job optimization\n",
    "\n",
    "Optimize the two jobs (avg temperature and max temperature) by avoiding the repetition of the same computations and by enforcing a partitioning criteria.\n",
    "- There are multiple methods to repartition an RDD: check the ```coalesce```, ```partitionBy```, and ```repartition``` methods on the documentation and choose the best one.\n",
    "  - To create a partitioning function, you must ```import org.apache.spark.HashPartitioner``` and then define ```val p = new HashPartitioner(n)``` where ```n``` is the number of partitions to create\n",
    "- Verify your persisted data in the web UI\n",
    "- Verify the execution plan of your RDDs with ```rdd.toDebugString``` (shell only) or on the web UI"
   ]
  },
  {
   "cell_type": "code",
   "execution_count": 4,
   "id": "ae20e128-aebc-4340-be2f-9da672fa81f8",
   "metadata": {
    "ExecuteTime": {
     "end_time": "2024-10-30T08:26:01.203652Z",
     "start_time": "2024-10-30T08:25:55.970860Z"
    },
    "id": "ae20e128-aebc-4340-be2f-9da672fa81f8",
    "tags": []
   },
   "outputs": [
    {
     "data": {
      "text/plain": [
       "res0: Array[(String, Double)] = Array((10,13.32), (11,8.15), (12,4.08), (01,3.06), (02,5.5), (03,8.31), (04,11.75), (05,15.83), (06,18.53), (07,19.96), (08,20.31), (09,17.24))\r\n"
      ]
     },
     "execution_count": 4,
     "metadata": {},
     "output_type": "execute_result"
    }
   ],
   "source": [
    "// Average temperature for every month\n",
    "rddWeather.\n",
    "  filter(_._6<999).\n",
    "  map(x => (x._4, x._6)).\n",
    "  aggregateByKey((0.0,0.0))((a,v)=>(a._1+v,a._2+1), (a1,a2)=>(a1._1+a2._1,a1._2+a2._2)).\n",
    "  map({case(k,v)=>(k,Math.round(v._1*100/v._2)/100.0)}).\n",
    "  collect()"
   ]
  },
  {
   "cell_type": "code",
   "execution_count": 5,
   "id": "b614d5393d1a1c2d",
   "metadata": {
    "ExecuteTime": {
     "end_time": "2024-10-30T08:26:07.344916Z",
     "start_time": "2024-10-30T08:26:03.418407Z"
    }
   },
   "outputs": [
    {
     "data": {
      "text/plain": [
       "res1: Array[(String, Int)] = Array((10,55), (11,43), (12,47), (01,55), (02,47), (03,44), (04,48), (05,49), (06,56), (07,56), (08,56), (09,55))\r\n"
      ]
     },
     "execution_count": 5,
     "metadata": {},
     "output_type": "execute_result"
    }
   ],
   "source": [
    "// Maximum temperature for every month\n",
    "rddWeather.\n",
    "  filter(_._6<999).\n",
    "  map(x => (x._4, x._6)).\n",
    "  reduceByKey((x,y)=>{if(x<y) y else x}).\n",
    "  collect()"
   ]
  },
  {
   "cell_type": "markdown",
   "id": "377fbf30-f568-413c-9238-de139db23135",
   "metadata": {
    "id": "377fbf30-f568-413c-9238-de139db23135"
   },
   "source": [
    "## 103-2 RDD preparation\n",
    "\n",
    "Check the five possibilities to prepare the Station RDD for subsequent processing and identify the best one."
   ]
  },
  {
   "cell_type": "code",
   "execution_count": 6,
   "id": "e16b6b4e-b4b6-4ca3-94bb-11b6c65c03d0",
   "metadata": {
    "ExecuteTime": {
     "end_time": "2024-10-30T08:42:11.885050Z",
     "start_time": "2024-10-30T08:42:10.577772Z"
    },
    "id": "e16b6b4e-b4b6-4ca3-94bb-11b6c65c03d0",
    "tags": []
   },
   "outputs": [
    {
     "data": {
      "text/plain": [
       "import org.apache.spark.HashPartitioner\r\n",
       "p2: org.apache.spark.HashPartitioner = org.apache.spark.HashPartitioner@8\r\n",
       "rddS1: org.apache.spark.rdd.RDD[(String, (String, Double))] = MapPartitionsRDD[15] at map at <console>:33\r\n",
       "rddS2: org.apache.spark.rdd.RDD[(String, (String, Double))] = ShuffledRDD[18] at partitionBy at <console>:38\r\n",
       "rddS3: org.apache.spark.rdd.RDD[(String, (String, Double))] = MapPartitionsRDD[21] at map at <console>:42\r\n",
       "rddS4: org.apache.spark.rdd.RDD[(String, (String, Double))] = ShuffledRDD[24] at partitionBy at <console>:47\r\n",
       "rddS5: org.apache.spark.rdd.RDD[(String, (String, Double))] = ShuffledRDD[26] at partitionBy at <console>:51\r\n"
      ]
     },
     "execution_count": 6,
     "metadata": {},
     "output_type": "execute_result"
    }
   ],
   "source": [
    "import org.apache.spark.HashPartitioner\n",
    "val p2 = new HashPartitioner(8)\n",
    "\n",
    "// _1 and _2 are the fields composing the key; _4 and _8 are country and elevation, respectively\n",
    "val rddS1 = rddStation.\n",
    "  keyBy(x => x._1 + x._2).\n",
    "  partitionBy(p2).\n",
    "  cache().\n",
    "  map({case (k,v) => (k,(v._4,v._8))})\n",
    "val rddS2 = rddStation.\n",
    "  keyBy(x => x._1 + x._2).\n",
    "  map({case (k,v) => (k,(v._4,v._8))}).\n",
    "  cache().\n",
    "  partitionBy(p2)\n",
    "val rddS3 = rddStation.\n",
    "  keyBy(x => x._1 + x._2).\n",
    "  partitionBy(p2).\n",
    "  map({case (k,v) => (k,(v._4,v._8))}).\n",
    "  cache()\n",
    "val rddS4 = rddStation.\n",
    "  keyBy(x => x._1 + x._2).\n",
    "  map({case (k,v) => (k,(v._4,v._8))}).\n",
    "  partitionBy(p2).\n",
    "  cache()\n",
    "val rddS5 = rddStation.\n",
    "  map(x => (x._1 + x._2, (x._4,x._8))).\n",
    "  partitionBy(p2).\n",
    "  cache()"
   ]
  },
  {
   "cell_type": "markdown",
   "id": "75c3071b-c9ee-4c02-a85f-2800b9c4d8ed",
   "metadata": {
    "id": "75c3071b-c9ee-4c02-a85f-2800b9c4d8ed"
   },
   "source": [
    "## 103-3 Joining RDDs\n",
    "\n",
    "Define the join between rddWeather and rddStation and compute:\n",
    "- The maximum temperature for every city\n",
    "- The maximum temperature for every city in the UK: \n",
    "  - ```StationData.country == \"UK\"```\n",
    "- Sort the results by descending temperature\n",
    "  - ```map({case(k,v)=>(v,k)})``` to invert key with value and vice versa\n",
    "\n",
    "Hints & considerations:\n",
    "- Keep only temperature values <999\n",
    "- Join syntax: ```rdd1.join(rdd2)```\n",
    "  - Both RDDs should be structured as key-value RDDs with the same key: usaf + wban\n",
    "- Consider partitioning and caching to optimize the join\n",
    "  - Careful: it is not enough for the two RDDs to have the same number of partitions; they must have the same partitioner!\n",
    "- Verify the execution plan of the join in the web UI"
   ]
  },
  {
   "cell_type": "code",
   "id": "681a9219",
   "metadata": {
    "ExecuteTime": {
     "end_time": "2024-10-30T10:57:02.070691Z",
     "start_time": "2024-10-30T10:56:55.381836Z"
    }
   },
   "source": [
    "val rddWeatherKV = rddWeather\n",
    "  .map(x => (x._1 + x._2, x._6))\n",
    "  .filter({case (k,v) => v < 999})\n",
    "val rddStationKV = rddStation\n",
    "  .map(x => (x._1 + x._2, (x._3, x._4)))\n",
    "\n",
    "val maxTemperatureForCity = \n",
    "  rddStationKV.join(rddWeatherKV)\n",
    "  .reduceByKey({ case ((c1, t1), (c2, t2)) => if (t1 >= t2) {(c1, t1)} else {(c2, t2)}})\n",
    "  .cache()\n",
    "\n",
    "maxTemperatureForCity\n",
    "  .sortBy({case (_,((city, country))) => city})\n",
    "  .collect()"
   ],
   "outputs": [
    {
     "data": {
      "text/plain": [
       "rddWeatherKV: org.apache.spark.rdd.RDD[(String, Int)] = MapPartitionsRDD[45] at filter at <console>:34\r\n",
       "rddStationKV: org.apache.spark.rdd.RDD[(String, (String, String))] = MapPartitionsRDD[46] at map at <console>:36\r\n",
       "maxTemperatureForCity: org.apache.spark.rdd.RDD[(String, ((String, String), Int))] = MapPartitionsRDD[50] at reduceByKey at <console>:40\r\n",
       "res6: Array[(String, ((String, String), Int))] = Array((69055499999,((\"\",\"\"),25)), (69800499999,((\"\",\"\"),41)), (69167499999,((\"\",\"\"),37)), (69373499999,((\"\",\"\"),19)), (69061499999,((\"\",\"\"),38)), (69378499999,((\"\",\"\"),32)), (69703499999,((\"\",\"\"),33)), (69375499999,((\"\",\"\"),21)), (69708499999,((\"\",\"\"),-17)), (69379499999,((\"\",\"\"),35)), (69372499999,((\"\",\"\"),11)), (69170499999,((\"\",\"\"),14)), (69680499999,((\"\",\"\"),36)), (69689499999,((\"\",\"\")...\r\n"
      ]
     },
     "execution_count": 12,
     "metadata": {},
     "output_type": "execute_result"
    }
   ],
   "execution_count": 12
  },
  {
   "metadata": {
    "ExecuteTime": {
     "end_time": "2024-10-30T10:52:16.544815Z",
     "start_time": "2024-10-30T10:52:15.089547Z"
    }
   },
   "cell_type": "code",
   "source": [
    "val maxTemperatureForCityUK = maxTemperatureForCity\n",
    "  .filter({case (_,((city, country), _)) => country == \"UK\"})\n",
    "  .cache()\n",
    "\n",
    "maxTemperatureForCityUK\n",
    "  .collect()"
   ],
   "id": "49aa76f937f59731",
   "outputs": [
    {
     "data": {
      "text/plain": [
       "maxTemperatureForCityUK: org.apache.spark.rdd.RDD[(String, ((String, String), Int))] = MapPartitionsRDD[26] at filter at <console>:29\r\n",
       "res2: Array[(String, ((String, String), Int))] = Array((03815099999,((LIZARD LIGHTHOUSE,UK),19)), (99609099999,((ENVIRONM BUOY 62146,UK),14)), (03305099999,((CAPEL CURIG NO3,UK),28)), (03075099999,((WICK,UK),18)), (03482099999,((MARHAM,UK),31)), (03507099999,((SENNYBRIDGE NO2,UK),26)), (03174099999,((FIFE NESS,UK),19)), (99502099999,((PLATFORM NO. 62101,UK),21)), (03408099999,((CYNWYD,UK),19)), (88986099999,((SOUTH THULE IS.,UK),8)), (03766399999,((BIGGIN HILL,UK),27)), (03281099999,((FYLINGDALES,UK),22)), (03302099999,((VALLEY,UK),27)), (03072099999,((CAIRNWELL,UK),17)), (03717099999,((CARDIFF WEATHER CENTRE,UK),26)), (03384099999,((LECONFIELD (AUT),UK)...\r\n"
      ]
     },
     "execution_count": 8,
     "metadata": {},
     "output_type": "execute_result"
    }
   ],
   "execution_count": 8
  },
  {
   "metadata": {
    "ExecuteTime": {
     "end_time": "2024-10-30T10:52:21.187389Z",
     "start_time": "2024-10-30T10:52:19.735356Z"
    }
   },
   "cell_type": "code",
   "source": [
    "val sortedMaxTemperatureForCityUK = maxTemperatureForCityUK\n",
    "  .sortBy({ case (_,(_, temp)) => temp },ascending = false)\n",
    "  .cache()\n",
    "\n",
    "sortedMaxTemperatureForCityUK.collect()"
   ],
   "id": "edda2814f774d01f",
   "outputs": [
    {
     "data": {
      "text/plain": [
       "sortedMaxTemperatureForCityUK: org.apache.spark.rdd.RDD[(String, ((String, String), Int))] = MapPartitionsRDD[31] at sortBy at <console>:29\r\n",
       "res3: Array[(String, ((String, String), Int))] = Array((99522099999,((PLATFORM 62120,UK),40)), (03583099999,((LAKENHEATH,UK),33)), (03482099999,((MARHAM,UK),31)), (03492099999,((NORWICH,UK),31)), (03772099999,((HEATHROW,UK),31)), (03577099999,((MILDENHALL,UK),31)), (03590099999,((WATTISHAM,UK),30)), (03571599999,((CAMBRIDGE,UK),30)), (03263599999,((DURHAM TEES VALLEY AIRPORT,UK),30)), (03495099999,((COLTISHALL,UK),30)), (03373599999,((HUMBERSIDE,UK),30)), (03414599999,((COSFORD,UK),30)), (03418599999,((NOTTINGHAM EAST MIDLANDS,UK),30)), (03347099999,((LEEDS WEATHER CTR,UK),30)), (03658099999,((BENSON,UK),30)), (03347599999,((SHEFFIELD CITY,UK),30))...\r\n"
      ]
     },
     "execution_count": 9,
     "metadata": {},
     "output_type": "execute_result"
    }
   ],
   "execution_count": 9
  },
  {
   "metadata": {
    "ExecuteTime": {
     "end_time": "2024-10-30T10:56:52.336328Z",
     "start_time": "2024-10-30T10:56:51.445150Z"
    }
   },
   "cell_type": "code",
   "source": "sc.getPersistentRDDs.foreach(_._2.unpersist())",
   "id": "55e819b737d96cfd",
   "outputs": [],
   "execution_count": 11
  },
  {
   "cell_type": "markdown",
   "id": "0c47156d-62bd-42cf-bb15-5d2496f8b882",
   "metadata": {
    "id": "0c47156d-62bd-42cf-bb15-5d2496f8b882"
   },
   "source": [
    "## 103-4 Memory occupation\n",
    "\n",
    "Use Spark's web UI to verify the space occupied by the provided RDDs."
   ]
  },
  {
   "cell_type": "code",
   "id": "af3068b3-f2aa-4d13-812b-7d0461a35390",
   "metadata": {
    "id": "af3068b3-f2aa-4d13-812b-7d0461a35390",
    "tags": [],
    "ExecuteTime": {
     "end_time": "2024-10-30T10:48:39.738860Z",
     "start_time": "2024-10-30T10:48:39.256747Z"
    }
   },
   "source": [
    "import org.apache.spark.storage.StorageLevel._\n",
    "\n",
    "sc.getPersistentRDDs.foreach(_._2.unpersist())\n",
    "\n",
    "val memRdd = rddWeather.cache()\n",
    "val memSerRdd = memRdd.map(x=>x).persist(MEMORY_ONLY_SER)\n",
    "val diskRdd = memRdd.map(x=>x).persist(DISK_ONLY)"
   ],
   "outputs": [
    {
     "data": {
      "text/plain": [
       "import org.apache.spark.storage.StorageLevel._\r\n",
       "memRdd: rddWeather.type = MapPartitionsRDD[2] at map at <console>:29\r\n",
       "memSerRdd: org.apache.spark.rdd.RDD[(String, String, String, String, String, Int, Boolean)] = MapPartitionsRDD[6] at map at <console>:31\r\n",
       "diskRdd: org.apache.spark.rdd.RDD[(String, String, String, String, String, Int, Boolean)] = MapPartitionsRDD[7] at map at <console>:32\r\n"
      ]
     },
     "execution_count": 4,
     "metadata": {},
     "output_type": "execute_result"
    }
   ],
   "execution_count": 4
  },
  {
   "metadata": {
    "ExecuteTime": {
     "end_time": "2024-10-30T10:48:48.466405Z",
     "start_time": "2024-10-30T10:48:43.549750Z"
    }
   },
   "cell_type": "code",
   "source": [
    "memRdd.collect()\n",
    "memSerRdd.collect()\n",
    "diskRdd.collect()"
   ],
   "id": "dd6b334f33deb5fd",
   "outputs": [
    {
     "data": {
      "text/plain": [
       "res0: Array[(String, String, String, String, String, Int, Boolean)] = Array((028690,99999,2000,04,01,999,false), (028690,99999,2000,04,01,999,false), (028690,99999,2000,04,01,-8,true), (028690,99999,2000,04,01,999,false), (028690,99999,2000,04,01,999,false), (028690,99999,2000,04,02,-9,true), (028690,99999,2000,04,02,999,false), (028690,99999,2000,04,02,999,false), (028690,99999,2000,04,02,-10,true), (028690,99999,2000,04,02,999,false), (028690,99999,2000,04,02,-11,true), (028690,99999,2000,04,02,-11,true), (028690,99999,2000,04,02,-9,true), (028690,99999,2000,04,02,-9,true), (028690,99999,2000,04,02,-6,true), (028690,99999,2000,04,02,-6,true), (028690,99999,2000,04,02,-5,true), (028690,99999,2000,04,02,-4,true), (028690,99999,2000,04,02,-4,true), (028690,99999,2000,04,02,-4,true), (028...\r\n"
      ]
     },
     "execution_count": 5,
     "metadata": {},
     "output_type": "execute_result"
    }
   ],
   "execution_count": 5
  },
  {
   "cell_type": "markdown",
   "id": "f4c7bc50-bb59-4e70-8955-8a44d7de774d",
   "metadata": {
    "id": "f4c7bc50-bb59-4e70-8955-8a44d7de774d"
   },
   "source": [
    "## 103-5 Evaluating different join methods\n",
    "\n",
    "Consider the following scenario:\n",
    "- We have a disposable RDD of Weather data (i.e., it is used only once): ```rddW```\n",
    "- And we have an RDD of Station data that is used many times: ```rddS```\n",
    "- Both RDDs are cached (```collect()```is called to enforce caching)\n",
    "\n",
    "We want to join the two RDDS. Which option is best?\n",
    "- Simply join the two RDDs\n",
    "- Enforce on ```rddW1``` the same partitioner of ```rddS``` (and then join)\n",
    "- Exploit broadcast variables"
   ]
  },
  {
   "cell_type": "code",
   "execution_count": null,
   "id": "31d77122-8bdd-4784-a86e-f42f2da06759",
   "metadata": {
    "ExecuteTime": {
     "end_time": "2024-10-20T16:18:53.686421Z",
     "start_time": "2024-10-20T16:18:51.290892Z"
    },
    "id": "31d77122-8bdd-4784-a86e-f42f2da06759",
    "tags": []
   },
   "outputs": [],
   "source": [
    "import org.apache.spark.HashPartitioner\n",
    "val p = new HashPartitioner(8)\n",
    "sc.getPersistentRDDs.foreach(_._2.unpersist())\n",
    "\n",
    "val rddW = rddWeather.\n",
    "  filter(_._6<999).\n",
    "  keyBy(x => x._1 + x._2).\n",
    "  persist()\n",
    "val rddS = rddStation.\n",
    "  keyBy(x => x._1 + x._2).\n",
    "  partitionBy(p).\n",
    "  cache()\n",
    "\n",
    "// Collect to enforce caching\n",
    "rddW.collect()\n",
    "rddS.collect()"
   ]
  },
  {
   "cell_type": "code",
   "execution_count": null,
   "id": "30a6822816cd65d2",
   "metadata": {
    "ExecuteTime": {
     "end_time": "2024-10-20T16:19:05.603687Z",
     "start_time": "2024-10-20T16:19:04.730871Z"
    }
   },
   "outputs": [],
   "source": [
    "// Is it better to simply join the two RDDs..\n",
    "rddW.\n",
    "  join(rddS).\n",
    "  map({case(k,v)=>(v._2._3,v._1._6)}).\n",
    "  reduceByKey((x,y)=>{if(x<y) y else x}).\n",
    "  collect"
   ]
  },
  {
   "cell_type": "code",
   "execution_count": null,
   "id": "4e0e5f9827be45d2",
   "metadata": {
    "ExecuteTime": {
     "end_time": "2024-10-20T16:19:26.072648Z",
     "start_time": "2024-10-20T16:19:25.244226Z"
    }
   },
   "outputs": [],
   "source": [
    "// ..to enforce on rddW1 the same partitioner of rddS..\n",
    "rddW.\n",
    "  partitionBy(p).\n",
    "  join(rddS).\n",
    "  map({case(k,v)=>(v._2._3,v._1._6)}).\n",
    "  reduceByKey((x,y)=>{if(x<y) y else x}).\n",
    "  collect()"
   ]
  },
  {
   "cell_type": "code",
   "execution_count": null,
   "id": "d50b618652ac67fc",
   "metadata": {
    "ExecuteTime": {
     "end_time": "2024-10-20T16:19:36.264001Z",
     "start_time": "2024-10-20T16:19:35.988801Z"
    }
   },
   "outputs": [],
   "source": [
    "// ..or to exploit broadcast variables?\n",
    "val bRddS = sc.broadcast(rddS.map(x => (x._1, x._2._3)).collectAsMap())\n",
    "val rddJ = rddW.\n",
    "  map({case (k,v) => (bRddS.value.get(k),v._6)}).\n",
    "  filter(_._1!=None)\n",
    "rddJ.\n",
    "  reduceByKey((x,y)=>{if(x<y) y else x}).\n",
    "  collect()"
   ]
  },
  {
   "cell_type": "markdown",
   "id": "e9cc81c0-1425-4ef9-8a19-a7edca031c33",
   "metadata": {
    "id": "e9cc81c0-1425-4ef9-8a19-a7edca031c33"
   },
   "source": [
    "## 103-6 Optimizing Exercise 3\n",
    "\n",
    "Start from the result of the last job of Exercise 3; is there a more efficient way to compute the same result?\n",
    "- Try it on weather-sample10\n",
    "- Hint: consider that each station is located in only one country"
   ]
  },
  {
   "cell_type": "code",
   "execution_count": null,
   "id": "47748353-fb4b-432f-af79-d1136453b956",
   "metadata": {
    "ExecuteTime": {
     "end_time": "2024-10-20T16:39:53.616157Z",
     "start_time": "2024-10-20T16:39:17.055562Z"
    },
    "id": "47748353-fb4b-432f-af79-d1136453b956",
    "tags": []
   },
   "outputs": [],
   "source": [
    "import org.apache.spark.HashPartitioner\n",
    "import org.apache.spark.storage.StorageLevel._\n",
    "val p = new HashPartitioner(8)\n",
    "sc.getPersistentRDDs.foreach(_._2.unpersist())\n",
    "\n",
    "val rddS = rddStation.\n",
    "  keyBy(x => x._1 + x._2).\n",
    "  partitionBy(p).\n",
    "  cache()\n",
    "val rddW = rddWeather.\n",
    "  filter(_._6<999).\n",
    "  keyBy(x => x._1 + x._2).\n",
    "  partitionBy(p).\n",
    "  persist(MEMORY_AND_DISK_SER)\n",
    "\n",
    "// Collect to enforce caching\n",
    "rddW.collect()\n",
    "rddS.collect()"
   ]
  },
  {
   "cell_type": "code",
   "execution_count": null,
   "id": "67f448cc-efc7-4793-a3a2-4a19e0e6fc15",
   "metadata": {
    "ExecuteTime": {
     "end_time": "2024-10-20T16:29:51.299610Z",
     "start_time": "2024-10-20T16:29:50.682782Z"
    },
    "id": "67f448cc-efc7-4793-a3a2-4a19e0e6fc15",
    "tags": []
   },
   "outputs": [],
   "source": [
    "// First version\n",
    "rddW.\n",
    "  join(rddS).\n",
    "  filter(_._2._2._4==\"UK\").\n",
    "  map({case(k,v)=>(v._2._3,v._1._6)}).\n",
    "  reduceByKey((x,y)=>{if(x<y) y else x}).\n",
    "  map({case(k,v)=>(v,k)}).\n",
    "  sortByKey(false).\n",
    "  collect()"
   ]
  }
 ],
 "metadata": {
  "colab": {
   "collapsed_sections": [],
   "name": "302-solutions.ipynb",
   "provenance": []
  },
  "kernelspec": {
   "display_name": "spylon-kernel",
   "language": "scala",
   "name": "spylon-kernel"
  },
  "language_info": {
   "codemirror_mode": "text/x-scala",
   "mimetype": "text/x-scala",
   "name": "scala",
   "pygments_lexer": "scala"
  }
 },
 "nbformat": 4,
 "nbformat_minor": 5
}
