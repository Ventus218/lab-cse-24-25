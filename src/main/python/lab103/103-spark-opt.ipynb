{
 "cells": [
  {
   "cell_type": "markdown",
   "id": "3fef6a0f-d919-4c87-b582-eacd2b852cee",
   "metadata": {
    "id": "3fef6a0f-d919-4c87-b582-eacd2b852cee"
   },
   "source": [
    "# 103 Spark optimizations\n",
    "\n",
    "The goal of this lab is to understand some of the optimization mechanisms of Spark.\n",
    "\n",
    "- [Spark programming guide](https://spark.apache.org/docs/latest/rdd-programming-guide.html)\n",
    "- [RDD APIs](https://spark.apache.org/docs/latest/api/scala/org/apache/spark/rdd/RDD.html)\n",
    "- [PairRDD APIs](https://spark.apache.org/docs/latest/api/scala/org/apache/spark/rdd/PairRDDFunctions.html)"
   ]
  },
  {
   "cell_type": "code",
   "id": "4a037caa76dc389a",
   "metadata": {
    "ExecuteTime": {
     "end_time": "2024-11-06T10:32:28.789485Z",
     "start_time": "2024-11-06T10:32:20.906202Z"
    }
   },
   "source": [
    "import org.apache.spark"
   ],
   "outputs": [
    {
     "data": {
      "text/plain": [
       "Intitializing Scala interpreter ..."
      ]
     },
     "metadata": {},
     "output_type": "display_data"
    },
    {
     "data": {
      "text/plain": [
       "Spark Web UI available at http://lab42-04-01.campusfc.dir.unibo.it:4040\n",
       "SparkContext available as 'sc' (version = 3.5.2, master = local[*], app id = local-1730889143654)\n",
       "SparkSession available as 'spark'\n"
      ]
     },
     "metadata": {},
     "output_type": "display_data"
    },
    {
     "data": {
      "text/plain": [
       "import org.apache.spark\r\n"
      ]
     },
     "execution_count": 1,
     "metadata": {},
     "output_type": "execute_result"
    }
   ],
   "execution_count": 1
  },
  {
   "cell_type": "code",
   "id": "f504e515fbb5fa1f",
   "metadata": {
    "ExecuteTime": {
     "end_time": "2024-11-06T10:15:33.947268100Z",
     "start_time": "2024-11-06T10:04:21.101410Z"
    }
   },
   "source": [
    "// DO NOT EXECUTE - this is needed just to avoid showing errors in the following cells\n",
    "val sc = spark.SparkContext.getOrCreate()"
   ],
   "outputs": [
    {
     "data": {
      "text/plain": [
       "sc: org.apache.spark.SparkContext = org.apache.spark.SparkContext@fcfcd9e\r\n"
      ]
     },
     "execution_count": 2,
     "metadata": {},
     "output_type": "execute_result"
    }
   ],
   "execution_count": 2
  },
  {
   "cell_type": "code",
   "id": "7648dedd-4462-44e4-bcf7-5dc3af6f08a7",
   "metadata": {
    "id": "7648dedd-4462-44e4-bcf7-5dc3af6f08a7",
    "tags": [],
    "ExecuteTime": {
     "end_time": "2024-11-06T10:32:30.861948Z",
     "start_time": "2024-11-06T10:32:30.176674Z"
    }
   },
   "source": [
    "// WEATHER structure: (usaf,wban,year,month,day,airTemperature,airTemperatureQuality)\n",
    "def parseWeather(row:String) = {\n",
    "    val usaf = row.substring(4,10)\n",
    "    val wban = row.substring(10,15)\n",
    "    val year = row.substring(15,19)\n",
    "    val month = row.substring(19,21)\n",
    "    val day = row.substring(21,23)\n",
    "    val airTemperature = row.substring(87,92)\n",
    "    val airTemperatureQuality = row.charAt(92)\n",
    "\n",
    "    (usaf,wban,year,month,day,airTemperature.toInt/10,airTemperatureQuality == '1')\n",
    "}\n",
    "\n",
    "// STATION structure: (usaf,wban,city,country,state,latitude,longitude,elevation,date_begin,date_end) \n",
    "def parseStation(row:String) = {\n",
    "    def getDouble(str:String) : Double = {\n",
    "        if (str.isEmpty)\n",
    "            return 0\n",
    "        else\n",
    "            return str.toDouble\n",
    "    }\n",
    "    val columns = row.split(\",\").map(_.replaceAll(\"\\\"\",\"\"))\n",
    "    val latitude = getDouble(columns(6))\n",
    "    val longitude = getDouble(columns(7))\n",
    "    val elevation = getDouble(columns(8))\n",
    "    (columns(0),columns(1),columns(2),columns(3),columns(4),latitude,longitude,elevation,columns(9),columns(10))  \n",
    "}"
   ],
   "outputs": [
    {
     "data": {
      "text/plain": [
       "parseWeather: (row: String)(String, String, String, String, String, Int, Boolean)\r\n",
       "parseStation: (row: String)(String, String, String, String, String, Double, Double, Double, String, String)\r\n"
      ]
     },
     "execution_count": 2,
     "metadata": {},
     "output_type": "execute_result"
    }
   ],
   "execution_count": 2
  },
  {
   "cell_type": "code",
   "id": "c70c02bd-4c8f-4cc2-9a13-544da7c6544d",
   "metadata": {
    "ExecuteTime": {
     "end_time": "2024-11-06T10:32:33.273043Z",
     "start_time": "2024-11-06T10:32:32.200382Z"
    }
   },
   "source": [
    "val rddWeather = sc.\n",
    "  textFile(\"../../../../datasets/big/weather-sample1.txt\").\n",
    "  map(x => parseWeather(x))\n",
    "val rddStation = sc.\n",
    "  textFile(\"../../../../datasets/weather-stations.csv\").\n",
    "  map(x => parseStation(x))"
   ],
   "outputs": [
    {
     "data": {
      "text/plain": [
       "rddWeather: org.apache.spark.rdd.RDD[(String, String, String, String, String, Int, Boolean)] = MapPartitionsRDD[2] at map at <console>:29\r\n",
       "rddStation: org.apache.spark.rdd.RDD[(String, String, String, String, String, Double, Double, Double, String, String)] = MapPartitionsRDD[5] at map at <console>:32\r\n"
      ]
     },
     "execution_count": 3,
     "metadata": {},
     "output_type": "execute_result"
    }
   ],
   "execution_count": 3
  },
  {
   "cell_type": "markdown",
   "id": "ef4b49ee-6852-4025-9e55-3950ff937680",
   "metadata": {
    "id": "ef4b49ee-6852-4025-9e55-3950ff937680"
   },
   "source": [
    "## 103-1 Simple job optimization\n",
    "\n",
    "Optimize the two jobs (avg temperature and max temperature) by avoiding the repetition of the same computations and by enforcing a partitioning criteria.\n",
    "- There are multiple methods to repartition an RDD: check the ```coalesce```, ```partitionBy```, and ```repartition``` methods on the documentation and choose the best one.\n",
    "  - To create a partitioning function, you must ```import org.apache.spark.HashPartitioner``` and then define ```val p = new HashPartitioner(n)``` where ```n``` is the number of partitions to create\n",
    "- Verify your persisted data in the web UI\n",
    "- Verify the execution plan of your RDDs with ```rdd.toDebugString``` (shell only) or on the web UI"
   ]
  },
  {
   "cell_type": "code",
   "id": "ae20e128-aebc-4340-be2f-9da672fa81f8",
   "metadata": {
    "id": "ae20e128-aebc-4340-be2f-9da672fa81f8",
    "tags": [],
    "ExecuteTime": {
     "end_time": "2024-11-06T10:18:05.521504Z",
     "start_time": "2024-11-06T10:18:00.617162Z"
    }
   },
   "source": [
    "// Average temperature for every month\n",
    "rddWeather.\n",
    "  filter(_._6<999).\n",
    "  map(x => (x._4, x._6)).\n",
    "  aggregateByKey((0.0,0.0))((a,v)=>(a._1+v,a._2+1), (a1,a2)=>(a1._1+a2._1,a1._2+a2._2)).\n",
    "  map({case(k,v)=>(k,Math.round(v._1*100/v._2)/100.0)}).\n",
    "  collect()"
   ],
   "outputs": [
    {
     "data": {
      "text/plain": [
       "res0: Array[(String, Double)] = Array((10,13.32), (11,8.15), (12,4.08), (01,3.06), (02,5.5), (03,8.31), (04,11.75), (05,15.83), (06,18.53), (07,19.96), (08,20.31), (09,17.24))\r\n"
      ]
     },
     "execution_count": 4,
     "metadata": {},
     "output_type": "execute_result"
    }
   ],
   "execution_count": 4
  },
  {
   "cell_type": "code",
   "id": "b614d5393d1a1c2d",
   "metadata": {
    "ExecuteTime": {
     "end_time": "2024-11-06T10:18:10.366820Z",
     "start_time": "2024-11-06T10:18:07.384843Z"
    }
   },
   "source": [
    "// Maximum temperature for every month\n",
    "rddWeather.\n",
    "  filter(_._6<999).\n",
    "  map(x => (x._4, x._6)).\n",
    "  reduceByKey((x,y)=>{if(x<y) y else x}).\n",
    "  collect()"
   ],
   "outputs": [
    {
     "data": {
      "text/plain": [
       "res1: Array[(String, Int)] = Array((10,55), (11,43), (12,47), (01,55), (02,47), (03,44), (04,48), (05,49), (06,56), (07,56), (08,56), (09,55))\r\n"
      ]
     },
     "execution_count": 5,
     "metadata": {},
     "output_type": "execute_result"
    }
   ],
   "execution_count": 5
  },
  {
   "cell_type": "markdown",
   "id": "377fbf30-f568-413c-9238-de139db23135",
   "metadata": {
    "id": "377fbf30-f568-413c-9238-de139db23135"
   },
   "source": [
    "## 103-2 RDD preparation\n",
    "\n",
    "Check the five possibilities to prepare the Station RDD for subsequent processing and identify the best one."
   ]
  },
  {
   "cell_type": "code",
   "execution_count": 6,
   "id": "e16b6b4e-b4b6-4ca3-94bb-11b6c65c03d0",
   "metadata": {
    "ExecuteTime": {
     "end_time": "2024-11-06T10:15:33.949268400Z",
     "start_time": "2024-10-30T08:42:10.577772Z"
    },
    "id": "e16b6b4e-b4b6-4ca3-94bb-11b6c65c03d0",
    "tags": []
   },
   "outputs": [
    {
     "data": {
      "text/plain": [
       "import org.apache.spark.HashPartitioner\r\n",
       "p2: org.apache.spark.HashPartitioner = org.apache.spark.HashPartitioner@8\r\n",
       "rddS1: org.apache.spark.rdd.RDD[(String, (String, Double))] = MapPartitionsRDD[15] at map at <console>:33\r\n",
       "rddS2: org.apache.spark.rdd.RDD[(String, (String, Double))] = ShuffledRDD[18] at partitionBy at <console>:38\r\n",
       "rddS3: org.apache.spark.rdd.RDD[(String, (String, Double))] = MapPartitionsRDD[21] at map at <console>:42\r\n",
       "rddS4: org.apache.spark.rdd.RDD[(String, (String, Double))] = ShuffledRDD[24] at partitionBy at <console>:47\r\n",
       "rddS5: org.apache.spark.rdd.RDD[(String, (String, Double))] = ShuffledRDD[26] at partitionBy at <console>:51\r\n"
      ]
     },
     "execution_count": 6,
     "metadata": {},
     "output_type": "execute_result"
    }
   ],
   "source": [
    "import org.apache.spark.HashPartitioner\n",
    "val p2 = new HashPartitioner(8)\n",
    "\n",
    "// _1 and _2 are the fields composing the key; _4 and _8 are country and elevation, respectively\n",
    "val rddS1 = rddStation.\n",
    "  keyBy(x => x._1 + x._2).\n",
    "  partitionBy(p2).\n",
    "  cache().\n",
    "  map({case (k,v) => (k,(v._4,v._8))})\n",
    "val rddS2 = rddStation.\n",
    "  keyBy(x => x._1 + x._2).\n",
    "  map({case (k,v) => (k,(v._4,v._8))}).\n",
    "  cache().\n",
    "  partitionBy(p2)\n",
    "val rddS3 = rddStation.\n",
    "  keyBy(x => x._1 + x._2).\n",
    "  partitionBy(p2).\n",
    "  map({case (k,v) => (k,(v._4,v._8))}).\n",
    "  cache()\n",
    "val rddS4 = rddStation.\n",
    "  keyBy(x => x._1 + x._2).\n",
    "  map({case (k,v) => (k,(v._4,v._8))}).\n",
    "  partitionBy(p2).\n",
    "  cache()\n",
    "val rddS5 = rddStation.\n",
    "  map(x => (x._1 + x._2, (x._4,x._8))).\n",
    "  partitionBy(p2).\n",
    "  cache()"
   ]
  },
  {
   "cell_type": "markdown",
   "id": "75c3071b-c9ee-4c02-a85f-2800b9c4d8ed",
   "metadata": {
    "id": "75c3071b-c9ee-4c02-a85f-2800b9c4d8ed"
   },
   "source": [
    "## 103-3 Joining RDDs\n",
    "\n",
    "Define the join between rddWeather and rddStation and compute:\n",
    "- The maximum temperature for every city\n",
    "- The maximum temperature for every city in the UK: \n",
    "  - ```StationData.country == \"UK\"```\n",
    "- Sort the results by descending temperature\n",
    "  - ```map({case(k,v)=>(v,k)})``` to invert key with value and vice versa\n",
    "\n",
    "Hints & considerations:\n",
    "- Keep only temperature values <999\n",
    "- Join syntax: ```rdd1.join(rdd2)```\n",
    "  - Both RDDs should be structured as key-value RDDs with the same key: usaf + wban\n",
    "- Consider partitioning and caching to optimize the join\n",
    "  - Careful: it is not enough for the two RDDs to have the same number of partitions; they must have the same partitioner!\n",
    "- Verify the execution plan of the join in the web UI"
   ]
  },
  {
   "cell_type": "code",
   "id": "681a9219",
   "metadata": {
    "ExecuteTime": {
     "end_time": "2024-11-06T10:15:33.950268Z",
     "start_time": "2024-11-06T10:00:01.059745Z"
    }
   },
   "source": [
    "val rddWeatherKV = rddWeather\n",
    "  .map(x => (x._1 + x._2, x._6))\n",
    "  .filter({case (k,v) => v < 999})\n",
    "val rddStationKV = rddStation\n",
    "  .map(x => (x._1 + x._2, (x._3, x._4)))\n",
    "\n",
    "val maxTemperatureForCity = \n",
    "  rddStationKV.join(rddWeatherKV)\n",
    "  .reduceByKey({ case ((c1, t1), (c2, t2)) => if (t1 >= t2) {(c1, t1)} else {(c2, t2)}})\n",
    "  .cache()\n",
    "\n",
    "maxTemperatureForCity\n",
    "  .sortBy({case (_,((city, country))) => city})\n",
    "  .collect()"
   ],
   "outputs": [
    {
     "data": {
      "text/plain": [
       "rddWeatherKV: org.apache.spark.rdd.RDD[(String, Int)] = MapPartitionsRDD[7] at filter at <console>:28\r\n",
       "rddStationKV: org.apache.spark.rdd.RDD[(String, (String, String))] = MapPartitionsRDD[8] at map at <console>:30\r\n",
       "maxTemperatureForCity: org.apache.spark.rdd.RDD[(String, ((String, String), Int))] = MapPartitionsRDD[12] at reduceByKey at <console>:34\r\n",
       "res0: Array[(String, ((String, String), Int))] = Array((69055499999,((\"\",\"\"),25)), (69800499999,((\"\",\"\"),41)), (69167499999,((\"\",\"\"),37)), (69373499999,((\"\",\"\"),19)), (69061499999,((\"\",\"\"),38)), (69378499999,((\"\",\"\"),32)), (69703499999,((\"\",\"\"),33)), (69375499999,((\"\",\"\"),21)), (69708499999,((\"\",\"\"),-17)), (69379499999,((\"\",\"\"),35)), (69372499999,((\"\",\"\"),11)), (69170499999,((\"\",\"\"),14)), (69680499999,((\"\",\"\"),36)), (69689499999,((\"\",\"\"),3...\r\n"
      ]
     },
     "execution_count": 4,
     "metadata": {},
     "output_type": "execute_result"
    }
   ],
   "execution_count": 4
  },
  {
   "metadata": {
    "ExecuteTime": {
     "end_time": "2024-11-06T10:15:33.950268Z",
     "start_time": "2024-11-06T10:00:15.011579Z"
    }
   },
   "cell_type": "code",
   "source": [
    "val maxTemperatureForCityUK = maxTemperatureForCity\n",
    "  .filter({case (_,((city, country), _)) => country == \"UK\"})\n",
    "  .cache()\n",
    "\n",
    "maxTemperatureForCityUK\n",
    "  .collect()"
   ],
   "id": "49aa76f937f59731",
   "outputs": [
    {
     "data": {
      "text/plain": [
       "maxTemperatureForCityUK: org.apache.spark.rdd.RDD[(String, ((String, String), Int))] = MapPartitionsRDD[18] at filter at <console>:26\r\n",
       "res1: Array[(String, ((String, String), Int))] = Array((03815099999,((LIZARD LIGHTHOUSE,UK),19)), (99609099999,((ENVIRONM BUOY 62146,UK),14)), (03305099999,((CAPEL CURIG NO3,UK),28)), (03075099999,((WICK,UK),18)), (03482099999,((MARHAM,UK),31)), (03507099999,((SENNYBRIDGE NO2,UK),26)), (03174099999,((FIFE NESS,UK),19)), (99502099999,((PLATFORM NO. 62101,UK),21)), (03408099999,((CYNWYD,UK),19)), (88986099999,((SOUTH THULE IS.,UK),8)), (03766399999,((BIGGIN HILL,UK),27)), (03281099999,((FYLINGDALES,UK),22)), (03302099999,((VALLEY,UK),27)), (03072099999,((CAIRNWELL,UK),17)), (03717099999,((CARDIFF WEATHER CENTRE,UK),26)), (03384099999,((LECONFIELD (AUT),UK)...\r\n"
      ]
     },
     "execution_count": 5,
     "metadata": {},
     "output_type": "execute_result"
    }
   ],
   "execution_count": 5
  },
  {
   "metadata": {
    "ExecuteTime": {
     "end_time": "2024-11-06T10:15:33.950268Z",
     "start_time": "2024-11-06T10:00:17.138448Z"
    }
   },
   "cell_type": "code",
   "source": [
    "val sortedMaxTemperatureForCityUK = maxTemperatureForCityUK\n",
    "  .sortBy({ case (_,(_, temp)) => temp },ascending = false)\n",
    "  .cache()\n",
    "\n",
    "sortedMaxTemperatureForCityUK.collect()"
   ],
   "id": "edda2814f774d01f",
   "outputs": [
    {
     "data": {
      "text/plain": [
       "sortedMaxTemperatureForCityUK: org.apache.spark.rdd.RDD[(String, ((String, String), Int))] = MapPartitionsRDD[23] at sortBy at <console>:26\r\n",
       "res2: Array[(String, ((String, String), Int))] = Array((99522099999,((PLATFORM 62120,UK),40)), (03583099999,((LAKENHEATH,UK),33)), (03482099999,((MARHAM,UK),31)), (03492099999,((NORWICH,UK),31)), (03772099999,((HEATHROW,UK),31)), (03577099999,((MILDENHALL,UK),31)), (03590099999,((WATTISHAM,UK),30)), (03571599999,((CAMBRIDGE,UK),30)), (03263599999,((DURHAM TEES VALLEY AIRPORT,UK),30)), (03495099999,((COLTISHALL,UK),30)), (03373599999,((HUMBERSIDE,UK),30)), (03414599999,((COSFORD,UK),30)), (03418599999,((NOTTINGHAM EAST MIDLANDS,UK),30)), (03347099999,((LEEDS WEATHER CTR,UK),30)), (03658099999,((BENSON,UK),30)), (03347599999,((SHEFFIELD CITY,UK),30))...\r\n"
      ]
     },
     "execution_count": 6,
     "metadata": {},
     "output_type": "execute_result"
    }
   ],
   "execution_count": 6
  },
  {
   "metadata": {
    "ExecuteTime": {
     "end_time": "2024-11-06T10:15:33.950268Z",
     "start_time": "2024-11-06T10:00:25.503579Z"
    }
   },
   "cell_type": "code",
   "source": "sc.getPersistentRDDs.foreach(_._2.unpersist())",
   "id": "55e819b737d96cfd",
   "outputs": [],
   "execution_count": 7
  },
  {
   "cell_type": "markdown",
   "id": "0c47156d-62bd-42cf-bb15-5d2496f8b882",
   "metadata": {
    "id": "0c47156d-62bd-42cf-bb15-5d2496f8b882"
   },
   "source": [
    "## 103-4 Memory occupation\n",
    "\n",
    "Use Spark's web UI to verify the space occupied by the provided RDDs."
   ]
  },
  {
   "cell_type": "code",
   "id": "af3068b3-f2aa-4d13-812b-7d0461a35390",
   "metadata": {
    "id": "af3068b3-f2aa-4d13-812b-7d0461a35390",
    "tags": [],
    "ExecuteTime": {
     "end_time": "2024-11-06T10:15:33.951267500Z",
     "start_time": "2024-10-30T10:48:39.256747Z"
    }
   },
   "source": [
    "import org.apache.spark.storage.StorageLevel._\n",
    "\n",
    "sc.getPersistentRDDs.foreach(_._2.unpersist())\n",
    "\n",
    "val memRdd = rddWeather.cache()\n",
    "val memSerRdd = memRdd.map(x=>x).persist(MEMORY_ONLY_SER)\n",
    "val diskRdd = memRdd.map(x=>x).persist(DISK_ONLY)"
   ],
   "outputs": [
    {
     "data": {
      "text/plain": [
       "import org.apache.spark.storage.StorageLevel._\r\n",
       "memRdd: rddWeather.type = MapPartitionsRDD[2] at map at <console>:29\r\n",
       "memSerRdd: org.apache.spark.rdd.RDD[(String, String, String, String, String, Int, Boolean)] = MapPartitionsRDD[6] at map at <console>:31\r\n",
       "diskRdd: org.apache.spark.rdd.RDD[(String, String, String, String, String, Int, Boolean)] = MapPartitionsRDD[7] at map at <console>:32\r\n"
      ]
     },
     "execution_count": 4,
     "metadata": {},
     "output_type": "execute_result"
    }
   ],
   "execution_count": 4
  },
  {
   "metadata": {
    "ExecuteTime": {
     "end_time": "2024-11-06T10:15:33.951267500Z",
     "start_time": "2024-10-30T10:48:43.549750Z"
    }
   },
   "cell_type": "code",
   "source": [
    "memRdd.collect()\n",
    "memSerRdd.collect()\n",
    "diskRdd.collect()"
   ],
   "id": "dd6b334f33deb5fd",
   "outputs": [
    {
     "data": {
      "text/plain": [
       "res0: Array[(String, String, String, String, String, Int, Boolean)] = Array((028690,99999,2000,04,01,999,false), (028690,99999,2000,04,01,999,false), (028690,99999,2000,04,01,-8,true), (028690,99999,2000,04,01,999,false), (028690,99999,2000,04,01,999,false), (028690,99999,2000,04,02,-9,true), (028690,99999,2000,04,02,999,false), (028690,99999,2000,04,02,999,false), (028690,99999,2000,04,02,-10,true), (028690,99999,2000,04,02,999,false), (028690,99999,2000,04,02,-11,true), (028690,99999,2000,04,02,-11,true), (028690,99999,2000,04,02,-9,true), (028690,99999,2000,04,02,-9,true), (028690,99999,2000,04,02,-6,true), (028690,99999,2000,04,02,-6,true), (028690,99999,2000,04,02,-5,true), (028690,99999,2000,04,02,-4,true), (028690,99999,2000,04,02,-4,true), (028690,99999,2000,04,02,-4,true), (028...\r\n"
      ]
     },
     "execution_count": 5,
     "metadata": {},
     "output_type": "execute_result"
    }
   ],
   "execution_count": 5
  },
  {
   "cell_type": "markdown",
   "id": "f4c7bc50-bb59-4e70-8955-8a44d7de774d",
   "metadata": {
    "id": "f4c7bc50-bb59-4e70-8955-8a44d7de774d"
   },
   "source": [
    "## 103-5 Evaluating different join methods\n",
    "\n",
    "Consider the following scenario:\n",
    "- We have a disposable RDD of Weather data (i.e., it is used only once): ```rddW```\n",
    "- And we have an RDD of Station data that is used many times: ```rddS```\n",
    "- Both RDDs are cached (```collect()```is called to enforce caching)\n",
    "\n",
    "We want to join the two RDDS. Which option is best?\n",
    "- Simply join the two RDDs\n",
    "- Enforce on ```rddW1``` the same partitioner of ```rddS``` (and then join)\n",
    "- Exploit broadcast variables"
   ]
  },
  {
   "cell_type": "code",
   "id": "31d77122-8bdd-4784-a86e-f42f2da06759",
   "metadata": {
    "id": "31d77122-8bdd-4784-a86e-f42f2da06759",
    "tags": [],
    "ExecuteTime": {
     "end_time": "2024-11-06T10:32:44.674813Z",
     "start_time": "2024-11-06T10:32:40.687515Z"
    }
   },
   "source": [
    "import org.apache.spark.HashPartitioner\n",
    "var p = new HashPartitioner(8)\n",
    "sc.getPersistentRDDs.foreach(_._2.unpersist())\n",
    "\n",
    "var rddW = rddWeather.\n",
    "  filter(_._6<999).\n",
    "  keyBy(x => x._1 + x._2).\n",
    "  persist()\n",
    "var rddS = rddStation.\n",
    "  keyBy(x => x._1 + x._2).\n",
    "  partitionBy(p).\n",
    "  cache()\n",
    "\n",
    "// Collect to enforce caching\n",
    "rddW.collect()\n",
    "rddS.collect()"
   ],
   "outputs": [
    {
     "data": {
      "text/plain": [
       "import org.apache.spark.HashPartitioner\r\n",
       "p: org.apache.spark.HashPartitioner = org.apache.spark.HashPartitioner@8\r\n",
       "rddW: org.apache.spark.rdd.RDD[(String, (String, String, String, String, String, Int, Boolean))] = MapPartitionsRDD[7] at keyBy at <console>:33\r\n",
       "rddS: org.apache.spark.rdd.RDD[(String, (String, String, String, String, String, Double, Double, Double, String, String))] = ShuffledRDD[9] at partitionBy at <console>:37\r\n",
       "res0: Array[(String, (String, String, String, String, String, Double, Double, Double, String, String))] = Array((00701199999,(007011,99999,CWOS 07011,\"\",\"\",0.0,0.0,0.0,20120101,20121129)), (00704499999,(007044,99999,CWOS 07044,\"\",\"\",0.0,0.0,0.0,20120127,20120127)), (00840599999,(008405,99999,XM14,\"\",\"\",0.0,0.0,0.0,20120101,20120827)), (00841699999,(008416,99999,X...\r\n"
      ]
     },
     "execution_count": 4,
     "metadata": {},
     "output_type": "execute_result"
    }
   ],
   "execution_count": 4
  },
  {
   "cell_type": "code",
   "id": "30a6822816cd65d2",
   "metadata": {
    "ExecuteTime": {
     "end_time": "2024-11-06T10:33:00.954474Z",
     "start_time": "2024-11-06T10:32:58.449273Z"
    }
   },
   "source": [
    "// Is it better to simply join the two RDDs..\n",
    "rddW.\n",
    "  join(rddS).\n",
    "  map({case(k,v)=>(v._2._3,v._1._6)}).\n",
    "  reduceByKey((x,y)=>{if(x<y) y else x}).\n",
    "  collect"
   ],
   "outputs": [
    {
     "data": {
      "text/plain": [
       "res1: Array[(String, Int)] = Array((TAIN RANGE (SAWS),22), (LOSSIEMOUTH,23), (HALLI,29), (SUOMUSJARVI,26), (BALTASOUND NO.2,18), (SELLA NESS,19), (KANKAANPAA NIINISALO PUOLVOIM,29), (KIRKWALL,19), (FOULA,15), (SULE SKERRY,17), (BUTT OF LEWIS (LH),8), (KUOPIO,30), (KUMLINGE ISLAND,22), (RACKWICK,19), (STORNOWAY,20), (NORTH RONALDSAY ISL,6), (GLENLIVET,23), (WATERSTEIN,21), (KRUUNUPYY,28), (JOKIOINEN,27), (SKYE/LUSA,23), (NORTH RONA ISLAND,21), (FOULA NO2,15), (INVERGORDON HARBOUR,20), (HELSINKI VANTAA,28), (AHTARI MYLLYMAKI,28), (LERWICK,17), (HELSINKI MALMI,28), (BARRA ISLAND,21), (KUUSAMO,29), (KAUHAVA,29), (TURKU,27), (MUSTASAARI VALASSAARET,20), (CAIRNGORM SUMMIT,14), (KINLOSS,24), (VARKAUS,29), (LOCH GLASCARNOCH,22), (AULTBEA NO2,23), (LAPPEENRANTA,29), (NIVALA,28), (JYVASKYLA,29), ...\r\n"
      ]
     },
     "execution_count": 5,
     "metadata": {},
     "output_type": "execute_result"
    }
   ],
   "execution_count": 5
  },
  {
   "cell_type": "code",
   "id": "4e0e5f9827be45d2",
   "metadata": {
    "ExecuteTime": {
     "end_time": "2024-11-06T10:33:04.094911Z",
     "start_time": "2024-11-06T10:33:02.320108Z"
    }
   },
   "source": [
    "// ..to enforce on rddW1 the same partitioner of rddS..\n",
    "rddW.\n",
    "  partitionBy(p).\n",
    "  join(rddS).\n",
    "  map({case(k,v)=>(v._2._3,v._1._6)}).\n",
    "  reduceByKey((x,y)=>{if(x<y) y else x}).\n",
    "  collect()"
   ],
   "outputs": [
    {
     "data": {
      "text/plain": [
       "res2: Array[(String, Int)] = Array((TAIN RANGE (SAWS),22), (LOSSIEMOUTH,23), (HALLI,29), (SUOMUSJARVI,26), (BALTASOUND NO.2,18), (SELLA NESS,19), (KANKAANPAA NIINISALO PUOLVOIM,29), (KIRKWALL,19), (FOULA,15), (SULE SKERRY,17), (BUTT OF LEWIS (LH),8), (KUOPIO,30), (KUMLINGE ISLAND,22), (RACKWICK,19), (STORNOWAY,20), (NORTH RONALDSAY ISL,6), (GLENLIVET,23), (WATERSTEIN,21), (KRUUNUPYY,28), (JOKIOINEN,27), (SKYE/LUSA,23), (NORTH RONA ISLAND,21), (FOULA NO2,15), (INVERGORDON HARBOUR,20), (HELSINKI VANTAA,28), (AHTARI MYLLYMAKI,28), (LERWICK,17), (HELSINKI MALMI,28), (BARRA ISLAND,21), (KUUSAMO,29), (KAUHAVA,29), (TURKU,27), (MUSTASAARI VALASSAARET,20), (CAIRNGORM SUMMIT,14), (KINLOSS,24), (VARKAUS,29), (LOCH GLASCARNOCH,22), (AULTBEA NO2,23), (LAPPEENRANTA,29), (NIVALA,28), (JYVASKYLA,29), ...\r\n"
      ]
     },
     "execution_count": 6,
     "metadata": {},
     "output_type": "execute_result"
    }
   ],
   "execution_count": 6
  },
  {
   "cell_type": "code",
   "id": "d50b618652ac67fc",
   "metadata": {
    "ExecuteTime": {
     "end_time": "2024-11-06T10:33:06.501331Z",
     "start_time": "2024-11-06T10:33:05.448187Z"
    }
   },
   "source": [
    "// ..or to exploit broadcast variables?\n",
    "val bRddS = sc.broadcast(rddS.map(x => (x._1, x._2._3)).collectAsMap())\n",
    "val rddJ = rddW.\n",
    "  map({case (k,v) => (bRddS.value.get(k),v._6)}).\n",
    "  filter(_._1!=None)\n",
    "rddJ.\n",
    "  reduceByKey((x,y)=>{if(x<y) y else x}).\n",
    "  collect()"
   ],
   "outputs": [
    {
     "data": {
      "text/plain": [
       "bRddS: org.apache.spark.broadcast.Broadcast[scala.collection.Map[String,String]] = Broadcast(12)\r\n",
       "rddJ: org.apache.spark.rdd.RDD[(Option[String], Int)] = MapPartitionsRDD[23] at filter at <console>:32\r\n",
       "res3: Array[(Option[String], Int)] = Array((Some(FOYERS),23), (Some(KRUUNUPYY),28), (Some(KILMORY),21), (Some(KINLOSS),24), (Some(SUOMUSJARVI),26), (Some(TURKU),27), (Some(AULTBEA NO2),23), (Some(KUMLINGE ISLAND),22), (Some(CAIRNGORM SUMMIT),14), (Some(MARIEHAMN),23), (Some(JOMALA),22), (Some(BENBECULA),20), (Some(HANKO RUSSARO),22), (Some(SELLA NESS),19), (Some(OULU),31), (Some(AONACH MOR),17), (Some(PORI),29), (Some(JYVASKYLA),29), (Some(TULLOCH BRIDGE),26), (Some(ISOSAARI),21), (Some(STORNOWAY),20), (Some(HALLI),29), (Some(SKYE/LUSA),23), (Some(SUOMUSSALMI),29), (Some(GLENLIVET),23), (...\r\n"
      ]
     },
     "execution_count": 7,
     "metadata": {},
     "output_type": "execute_result"
    }
   ],
   "execution_count": 7
  },
  {
   "cell_type": "markdown",
   "id": "e9cc81c0-1425-4ef9-8a19-a7edca031c33",
   "metadata": {
    "id": "e9cc81c0-1425-4ef9-8a19-a7edca031c33"
   },
   "source": [
    "## 103-6 Optimizing Exercise 3\n",
    "\n",
    "Start from the result of the last job of Exercise 3; is there a more efficient way to compute the same result?\n",
    "- Try it on weather-sample10\n",
    "- Hint: consider that each station is located in only one country"
   ]
  },
  {
   "cell_type": "code",
   "id": "47748353-fb4b-432f-af79-d1136453b956",
   "metadata": {
    "id": "47748353-fb4b-432f-af79-d1136453b956",
    "tags": [],
    "ExecuteTime": {
     "end_time": "2024-11-06T10:36:00.057881Z",
     "start_time": "2024-11-06T10:35:56.780940Z"
    }
   },
   "source": [
    "import org.apache.spark.HashPartitioner\n",
    "import org.apache.spark.storage.StorageLevel._\n",
    "p = new HashPartitioner(8)\n",
    "sc.getPersistentRDDs.foreach(_._2.unpersist())\n",
    "\n",
    "rddS = rddStation.\n",
    "  keyBy(x => x._1 + x._2).\n",
    "  partitionBy(p).\n",
    "  cache()\n",
    "rddW = rddWeather.\n",
    "  filter(_._6<999).\n",
    "  keyBy(x => x._1 + x._2).\n",
    "  partitionBy(p).\n",
    "  persist(MEMORY_AND_DISK_SER)\n",
    "\n",
    "// Collect to enforce caching\n",
    "rddW.collect()\n",
    "rddS.collect()"
   ],
   "outputs": [
    {
     "data": {
      "text/plain": [
       "import org.apache.spark.HashPartitioner\r\n",
       "import org.apache.spark.storage.StorageLevel._\r\n",
       "p: org.apache.spark.HashPartitioner = org.apache.spark.HashPartitioner@8\r\n",
       "rddS: org.apache.spark.rdd.RDD[(String, (String, String, String, String, String, Double, Double, Double, String, String))] = ShuffledRDD[26] at partitionBy at <console>:38\r\n",
       "rddW: org.apache.spark.rdd.RDD[(String, (String, String, String, String, String, Int, Boolean))] = ShuffledRDD[29] at partitionBy at <console>:43\r\n",
       "res4: Array[(String, (String, String, String, String, String, Double, Double, Double, String, String))] = Array((00701199999,(007011,99999,CWOS 07011,\"\",\"\",0.0,0.0,0.0,20120101,20121129)), (00704499999,(007044,99999,CWOS 07044,\"\",\"\",0.0,0.0,0.0,20120127,20120127)), (00840599999,(008405,99999,XM14,\"\",\"\",0.0,0.0,0....\r\n"
      ]
     },
     "execution_count": 8,
     "metadata": {},
     "output_type": "execute_result"
    }
   ],
   "execution_count": 8
  },
  {
   "metadata": {
    "id": "67f448cc-efc7-4793-a3a2-4a19e0e6fc15",
    "tags": [],
    "ExecuteTime": {
     "end_time": "2024-11-06T10:36:18.438025Z",
     "start_time": "2024-11-06T10:36:15.710441Z"
    }
   },
   "cell_type": "code",
   "outputs": [
    {
     "data": {
      "text/plain": [
       "res5: Array[(Int, String)] = Array((34,SOUTH UIST RANGE), (30,SUMBURGH), (26,TULLOCH BRIDGE), (24,KINLOSS), (24,ALTNAHARRA NO2), (23,LOSSIEMOUTH), (23,GLENLIVET), (23,SKYE/LUSA), (23,AULTBEA NO2), (23,INVERNESS), (23,FOYERS), (23,AVIEMORE), (22,TAIN RANGE (SAWS)), (22,LOCH GLASCARNOCH), (21,WATERSTEIN), (21,NORTH RONA ISLAND), (21,BARRA ISLAND), (21,LOCHBOISDALE), (21,KILMORY), (20,STORNOWAY), (20,INVERGORDON HARBOUR), (20,SCATSTA), (20,BENBECULA), (19,SELLA NESS), (19,KIRKWALL), (19,RACKWICK), (18,BALTASOUND NO.2), (17,SULE SKERRY), (17,LERWICK), (17,AONACH MOR), (16,MUCKLE HOLM), (15,FOULA), (15,FOULA NO2), (15,FAIR ISLE), (14,CAIRNGORM SUMMIT), (8,BUTT OF LEWIS (LH)), (6,NORTH RONALDSAY ISL))\r\n"
      ]
     },
     "execution_count": 9,
     "metadata": {},
     "output_type": "execute_result"
    }
   ],
   "execution_count": 9,
   "source": [
    "// First version\n",
    "rddW.\n",
    "  join(rddS).\n",
    "  filter(_._2._2._4==\"UK\").\n",
    "  map({case(k,v)=>(v._2._3,v._1._6)}).\n",
    "  reduceByKey((x,y)=>{if(x<y) y else x}).\n",
    "  map({case(k,v)=>(v,k)}).\n",
    "  sortByKey(false).\n",
    "  collect()"
   ],
   "id": "67f448cc-efc7-4793-a3a2-4a19e0e6fc15"
  },
  {
   "metadata": {
    "ExecuteTime": {
     "end_time": "2024-11-06T10:50:32.546405Z",
     "start_time": "2024-11-06T10:50:30.704196Z"
    }
   },
   "cell_type": "code",
   "source": [
    "// Second version (filter moved before joining)\n",
    "rddW.\n",
    "  join(rddS.filter({case (k, s) => s._4 == \"UK\"})).\n",
    "  map({case(k,v)=>(v._2._3,v._1._6)}).\n",
    "  reduceByKey((x,y)=>{if(x<y) y else x}).\n",
    "  map({case(k,v)=>(v,k)}).\n",
    "  sortByKey(false).\n",
    "  collect()"
   ],
   "id": "aa23d95d4dfc831b",
   "outputs": [
    {
     "data": {
      "text/plain": [
       "res6: Array[(Int, String)] = Array((34,SOUTH UIST RANGE), (30,SUMBURGH), (26,TULLOCH BRIDGE), (24,KINLOSS), (24,ALTNAHARRA NO2), (23,LOSSIEMOUTH), (23,GLENLIVET), (23,SKYE/LUSA), (23,AULTBEA NO2), (23,INVERNESS), (23,FOYERS), (23,AVIEMORE), (22,TAIN RANGE (SAWS)), (22,LOCH GLASCARNOCH), (21,WATERSTEIN), (21,NORTH RONA ISLAND), (21,BARRA ISLAND), (21,LOCHBOISDALE), (21,KILMORY), (20,STORNOWAY), (20,INVERGORDON HARBOUR), (20,SCATSTA), (20,BENBECULA), (19,SELLA NESS), (19,KIRKWALL), (19,RACKWICK), (18,BALTASOUND NO.2), (17,SULE SKERRY), (17,LERWICK), (17,AONACH MOR), (16,MUCKLE HOLM), (15,FOULA), (15,FOULA NO2), (15,FAIR ISLE), (14,CAIRNGORM SUMMIT), (8,BUTT OF LEWIS (LH)), (6,NORTH RONALDSAY ISL))\r\n"
      ]
     },
     "execution_count": 10,
     "metadata": {},
     "output_type": "execute_result"
    }
   ],
   "execution_count": 10
  },
  {
   "metadata": {
    "ExecuteTime": {
     "end_time": "2024-11-06T11:00:15.537956Z",
     "start_time": "2024-11-06T11:00:14.426664Z"
    }
   },
   "cell_type": "code",
   "source": [
    "// Third version (filter moved before joining, and reducing amount of data brought by)\n",
    "rddW.\n",
    "  map({case(k, w) => (k, w._6)}).\n",
    "  join(rddS.map({case (k, s) => (k, (s._3, s._4))}).filter({case (k, s) => s._2 == \"UK\"})).\n",
    "  map({case(k,(w, s))=>(k, (w, s._1))}).\n",
    "  reduceByKey((x,y)=>{if(x._1<y._1) y else x}).\n",
    "  map({case(k,v)=>(v,k)}).\n",
    "  sortByKey(false).\n",
    "  collect()"
   ],
   "id": "9d3cadb7433c1f59",
   "outputs": [
    {
     "data": {
      "text/plain": [
       "res10: Array[((Int, String), String)] = Array(((34,SOUTH UIST RANGE),03023099999), ((30,SUMBURGH),03003099999), ((26,TULLOCH BRIDGE),03047099999), ((24,KINLOSS),03066099999), ((24,ALTNAHARRA NO2),03044099999), ((23,SKYE/LUSA),03037099999), ((23,LOSSIEMOUTH),03068099999), ((23,INVERNESS),03059099999), ((23,GLENLIVET),03070099999), ((23,FOYERS),03057099999), ((23,AVIEMORE),03063099999), ((23,AULTBEA NO2),03034099999), ((22,TAIN RANGE (SAWS)),03062099999), ((22,LOCH GLASCARNOCH),03031099999), ((21,WATERSTEIN),03027099999), ((21,NORTH RONA ISLAND),03011099999), ((21,LOCHBOISDALE),03021099999), ((21,KILMORY),03040099999), ((21,BARRA ISLAND),03035099999), ((20,STORNOWAY),03026099999), ((20,SCATSTA),03006499999), ((20,INVERGORDON HARBOUR),03058099999), ((20,BENBECULA),03022099999), ((19,SELLA ...\r\n"
      ]
     },
     "execution_count": 14,
     "metadata": {},
     "output_type": "execute_result"
    }
   ],
   "execution_count": 14
  }
 ],
 "metadata": {
  "colab": {
   "collapsed_sections": [],
   "name": "302-solutions.ipynb",
   "provenance": []
  },
  "kernelspec": {
   "display_name": "spylon-kernel",
   "language": "scala",
   "name": "spylon-kernel"
  },
  "language_info": {
   "codemirror_mode": "text/x-scala",
   "mimetype": "text/x-scala",
   "name": "scala",
   "pygments_lexer": "scala"
  }
 },
 "nbformat": 4,
 "nbformat_minor": 5
}
